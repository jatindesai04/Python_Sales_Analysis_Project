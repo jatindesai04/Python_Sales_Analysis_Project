{
 "cells": [
  {
   "cell_type": "code",
   "execution_count": 1,
   "id": "a6a9991d-6e6f-4f80-975f-20a69b0b9a1d",
   "metadata": {},
   "outputs": [],
   "source": [
    "import pandas as pd \n",
    "import os \n",
    "import matplotlib.pyplot as plt"
   ]
  },
  {
   "cell_type": "code",
   "execution_count": 2,
   "id": "6df92533-28a3-43e5-825e-10aeff30edeb",
   "metadata": {},
   "outputs": [],
   "source": []
  },
  {
   "cell_type": "markdown",
   "id": "3cd2da0a-7e10-4d69-b1aa-e9c522d7f7b1",
   "metadata": {},
   "source": [
    "## Merging a 12 months sales file into a single csv file "
   ]
  },
  {
   "cell_type": "code",
   "execution_count": 4,
   "id": "d0bcfbbc-fce6-4c10-840e-a64cea870625",
   "metadata": {},
   "outputs": [],
   "source": [
    "files = [file for file in os.listdir('./Sales_Data') ]\n",
    "\n",
    "# import os for this first\n",
    "# for file in files:\n",
    "#     print(file)\n",
    "\n",
    "\n",
    "all_months_data = pd.DataFrame()\n",
    "\n",
    "for file in files:\n",
    "    df = pd.read_csv(\"./Sales_Data/\"+file)\n",
    "    frames = [all_months_data, df]\n",
    "    all_months_data = pd.concat(frames)\n",
    "\n",
    "\n",
    "# all_months_data.head()\n",
    "# to a new csv through this ftn  \n",
    "all_months_data.to_csv(\"all_data.csv\", index=False)"
   ]
  },
  {
   "cell_type": "markdown",
   "id": "56ee40c6-b2a5-4298-bbbc-c60d203782e2",
   "metadata": {},
   "source": [
    "## Read New File all_data.csv"
   ]
  },
  {
   "cell_type": "code",
   "execution_count": 5,
   "id": "8d835679-e42f-4f23-bc0a-3797ba01412d",
   "metadata": {},
   "outputs": [
    {
     "data": {
      "text/html": [
       "<div>\n",
       "<style scoped>\n",
       "    .dataframe tbody tr th:only-of-type {\n",
       "        vertical-align: middle;\n",
       "    }\n",
       "\n",
       "    .dataframe tbody tr th {\n",
       "        vertical-align: top;\n",
       "    }\n",
       "\n",
       "    .dataframe thead th {\n",
       "        text-align: right;\n",
       "    }\n",
       "</style>\n",
       "<table border=\"1\" class=\"dataframe\">\n",
       "  <thead>\n",
       "    <tr style=\"text-align: right;\">\n",
       "      <th></th>\n",
       "      <th>Order ID</th>\n",
       "      <th>Product</th>\n",
       "      <th>Quantity Ordered</th>\n",
       "      <th>Price Each</th>\n",
       "      <th>Order Date</th>\n",
       "      <th>Purchase Address</th>\n",
       "    </tr>\n",
       "  </thead>\n",
       "  <tbody>\n",
       "    <tr>\n",
       "      <th>0</th>\n",
       "      <td>176558</td>\n",
       "      <td>USB-C Charging Cable</td>\n",
       "      <td>2</td>\n",
       "      <td>11.95</td>\n",
       "      <td>04/19/19 08:46</td>\n",
       "      <td>917 1st St, Dallas, TX 75001</td>\n",
       "    </tr>\n",
       "    <tr>\n",
       "      <th>1</th>\n",
       "      <td>NaN</td>\n",
       "      <td>NaN</td>\n",
       "      <td>NaN</td>\n",
       "      <td>NaN</td>\n",
       "      <td>NaN</td>\n",
       "      <td>NaN</td>\n",
       "    </tr>\n",
       "    <tr>\n",
       "      <th>2</th>\n",
       "      <td>176559</td>\n",
       "      <td>Bose SoundSport Headphones</td>\n",
       "      <td>1</td>\n",
       "      <td>99.99</td>\n",
       "      <td>04/07/19 22:30</td>\n",
       "      <td>682 Chestnut St, Boston, MA 02215</td>\n",
       "    </tr>\n",
       "    <tr>\n",
       "      <th>3</th>\n",
       "      <td>176560</td>\n",
       "      <td>Google Phone</td>\n",
       "      <td>1</td>\n",
       "      <td>600</td>\n",
       "      <td>04/12/19 14:38</td>\n",
       "      <td>669 Spruce St, Los Angeles, CA 90001</td>\n",
       "    </tr>\n",
       "    <tr>\n",
       "      <th>4</th>\n",
       "      <td>176560</td>\n",
       "      <td>Wired Headphones</td>\n",
       "      <td>1</td>\n",
       "      <td>11.99</td>\n",
       "      <td>04/12/19 14:38</td>\n",
       "      <td>669 Spruce St, Los Angeles, CA 90001</td>\n",
       "    </tr>\n",
       "  </tbody>\n",
       "</table>\n",
       "</div>"
      ],
      "text/plain": [
       "  Order ID                     Product Quantity Ordered Price Each  \\\n",
       "0   176558        USB-C Charging Cable                2      11.95   \n",
       "1      NaN                         NaN              NaN        NaN   \n",
       "2   176559  Bose SoundSport Headphones                1      99.99   \n",
       "3   176560                Google Phone                1        600   \n",
       "4   176560            Wired Headphones                1      11.99   \n",
       "\n",
       "       Order Date                      Purchase Address  \n",
       "0  04/19/19 08:46          917 1st St, Dallas, TX 75001  \n",
       "1             NaN                                   NaN  \n",
       "2  04/07/19 22:30     682 Chestnut St, Boston, MA 02215  \n",
       "3  04/12/19 14:38  669 Spruce St, Los Angeles, CA 90001  \n",
       "4  04/12/19 14:38  669 Spruce St, Los Angeles, CA 90001  "
      ]
     },
     "execution_count": 5,
     "metadata": {},
     "output_type": "execute_result"
    }
   ],
   "source": [
    "all_data = pd.read_csv(\"all_data.csv\")\n",
    "all_data.head()"
   ]
  },
  {
   "cell_type": "markdown",
   "id": "96eb6544-2d56-43af-9d52-3f5ced634d3e",
   "metadata": {},
   "source": [
    "## DATA CLEANING "
   ]
  },
  {
   "cell_type": "markdown",
   "id": "61d06e7c",
   "metadata": {},
   "source": [
    "## 1. DROP ROWS OF NAN"
   ]
  },
  {
   "cell_type": "code",
   "execution_count": 7,
   "id": "fb90058b-5785-4ab3-88f6-05983f031225",
   "metadata": {},
   "outputs": [],
   "source": [
    "# FETCH ALL NAN \n",
    "\n",
    "rows_with_nan = all_data[all_data.isna().any(axis=1)]\n",
    "# print(rows_with_nan)"
   ]
  },
  {
   "cell_type": "code",
   "execution_count": 11,
   "id": "a15315a8-7d04-4c0a-901c-4e1ea6234529",
   "metadata": {
    "scrolled": true
   },
   "outputs": [],
   "source": [
    "# ROWS_WITH_NAN\n",
    "# drop   by  any or all \n",
    "\n",
    "\n",
    "# all_data_extra1 = all_data \n",
    "\n",
    "all_data = all_data.dropna(how='all')\n",
    "# all_data.head()"
   ]
  },
  {
   "cell_type": "markdown",
   "id": "aaa3306c-6971-4b2f-8a13-6e76beeb4a25",
   "metadata": {},
   "source": [
    "## 2. CLEAN DATA CONTAING 'OR' IN ORDER DATE OR MONTH"
   ]
  },
  {
   "cell_type": "code",
   "execution_count": 19,
   "id": "dec3aeff-6507-4b18-943c-b8bf2edb0b25",
   "metadata": {},
   "outputs": [],
   "source": [
    "## FETCH ALL ORDER DATE WITH 'OR' \n",
    "# all_data_extra2  = all_data\n",
    "\n",
    "# temp_df3 = all_data[ all_data['Order Date'].str[0:2] == 'Or']\n",
    "\n",
    "temp_df = all_data[ all_data['Order Date'].str[0:2] == 'Or' ]\n",
    "# temp_df.head()\n",
    "\n",
    "# all_data.head()"
   ]
  },
  {
   "cell_type": "markdown",
   "id": "5718631a-a732-41be-93f1-4b2ed05767ad",
   "metadata": {},
   "source": [
    "## 2a ADD ECEPTION FOR 'OR' IN ORDER DATE "
   ]
  },
  {
   "cell_type": "code",
   "execution_count": 20,
   "id": "0dc12870-a344-48f4-b998-d8ce726a03e0",
   "metadata": {},
   "outputs": [],
   "source": [
    "# all_data_extra3 = all_data\n",
    "\n",
    "# all_data_og.head()\n",
    "\n",
    "## extra for refering \n",
    "# temp_df = all_data[ all_data['Order Date'].str[0:2] != 'Or' ]\n",
    "# temp_df.head()"
   ]
  },
  {
   "cell_type": "code",
   "execution_count": 21,
   "id": "fb0dfdef-19e8-4629-ace1-05b272be8e70",
   "metadata": {},
   "outputs": [
    {
     "data": {
      "text/html": [
       "<div>\n",
       "<style scoped>\n",
       "    .dataframe tbody tr th:only-of-type {\n",
       "        vertical-align: middle;\n",
       "    }\n",
       "\n",
       "    .dataframe tbody tr th {\n",
       "        vertical-align: top;\n",
       "    }\n",
       "\n",
       "    .dataframe thead th {\n",
       "        text-align: right;\n",
       "    }\n",
       "</style>\n",
       "<table border=\"1\" class=\"dataframe\">\n",
       "  <thead>\n",
       "    <tr style=\"text-align: right;\">\n",
       "      <th></th>\n",
       "      <th>Order ID</th>\n",
       "      <th>Product</th>\n",
       "      <th>Quantity Ordered</th>\n",
       "      <th>Price Each</th>\n",
       "      <th>Order Date</th>\n",
       "      <th>Purchase Address</th>\n",
       "    </tr>\n",
       "  </thead>\n",
       "  <tbody>\n",
       "    <tr>\n",
       "      <th>0</th>\n",
       "      <td>176558</td>\n",
       "      <td>USB-C Charging Cable</td>\n",
       "      <td>2</td>\n",
       "      <td>11.95</td>\n",
       "      <td>04/19/19 08:46</td>\n",
       "      <td>917 1st St, Dallas, TX 75001</td>\n",
       "    </tr>\n",
       "    <tr>\n",
       "      <th>2</th>\n",
       "      <td>176559</td>\n",
       "      <td>Bose SoundSport Headphones</td>\n",
       "      <td>1</td>\n",
       "      <td>99.99</td>\n",
       "      <td>04/07/19 22:30</td>\n",
       "      <td>682 Chestnut St, Boston, MA 02215</td>\n",
       "    </tr>\n",
       "    <tr>\n",
       "      <th>3</th>\n",
       "      <td>176560</td>\n",
       "      <td>Google Phone</td>\n",
       "      <td>1</td>\n",
       "      <td>600</td>\n",
       "      <td>04/12/19 14:38</td>\n",
       "      <td>669 Spruce St, Los Angeles, CA 90001</td>\n",
       "    </tr>\n",
       "    <tr>\n",
       "      <th>4</th>\n",
       "      <td>176560</td>\n",
       "      <td>Wired Headphones</td>\n",
       "      <td>1</td>\n",
       "      <td>11.99</td>\n",
       "      <td>04/12/19 14:38</td>\n",
       "      <td>669 Spruce St, Los Angeles, CA 90001</td>\n",
       "    </tr>\n",
       "    <tr>\n",
       "      <th>5</th>\n",
       "      <td>176561</td>\n",
       "      <td>Wired Headphones</td>\n",
       "      <td>1</td>\n",
       "      <td>11.99</td>\n",
       "      <td>04/30/19 09:27</td>\n",
       "      <td>333 8th St, Los Angeles, CA 90001</td>\n",
       "    </tr>\n",
       "  </tbody>\n",
       "</table>\n",
       "</div>"
      ],
      "text/plain": [
       "  Order ID                     Product Quantity Ordered Price Each  \\\n",
       "0   176558        USB-C Charging Cable                2      11.95   \n",
       "2   176559  Bose SoundSport Headphones                1      99.99   \n",
       "3   176560                Google Phone                1        600   \n",
       "4   176560            Wired Headphones                1      11.99   \n",
       "5   176561            Wired Headphones                1      11.99   \n",
       "\n",
       "       Order Date                      Purchase Address  \n",
       "0  04/19/19 08:46          917 1st St, Dallas, TX 75001  \n",
       "2  04/07/19 22:30     682 Chestnut St, Boston, MA 02215  \n",
       "3  04/12/19 14:38  669 Spruce St, Los Angeles, CA 90001  \n",
       "4  04/12/19 14:38  669 Spruce St, Los Angeles, CA 90001  \n",
       "5  04/30/19 09:27     333 8th St, Los Angeles, CA 90001  "
      ]
     },
     "execution_count": 21,
     "metadata": {},
     "output_type": "execute_result"
    }
   ],
   "source": [
    "all_data = all_data[ all_data['Order Date'].str[0:2] != 'Or' ]\n",
    "all_data.head()"
   ]
  },
  {
   "cell_type": "markdown",
   "id": "99f56c40-4704-4130-be94-6abc760a55e2",
   "metadata": {},
   "source": [
    "## CONVERT DATA TO CORRECT DATA TYPE "
   ]
  },
  {
   "cell_type": "code",
   "execution_count": 24,
   "id": "cb300da5-abd7-4692-8e2e-d00414b2f082",
   "metadata": {},
   "outputs": [
    {
     "name": "stderr",
     "output_type": "stream",
     "text": [
      "C:\\Users\\Jatin\\AppData\\Local\\Temp\\ipykernel_9020\\1516362272.py:5: SettingWithCopyWarning: \n",
      "A value is trying to be set on a copy of a slice from a DataFrame.\n",
      "Try using .loc[row_indexer,col_indexer] = value instead\n",
      "\n",
      "See the caveats in the documentation: https://pandas.pydata.org/pandas-docs/stable/user_guide/indexing.html#returning-a-view-versus-a-copy\n",
      "  all_data['Quantity Ordered'] =  pd.to_numeric( all_data['Quantity Ordered'] )\n",
      "C:\\Users\\Jatin\\AppData\\Local\\Temp\\ipykernel_9020\\1516362272.py:6: SettingWithCopyWarning: \n",
      "A value is trying to be set on a copy of a slice from a DataFrame.\n",
      "Try using .loc[row_indexer,col_indexer] = value instead\n",
      "\n",
      "See the caveats in the documentation: https://pandas.pydata.org/pandas-docs/stable/user_guide/indexing.html#returning-a-view-versus-a-copy\n",
      "  all_data['Price Each'] =  pd.to_numeric( all_data['Price Each'] )\n"
     ]
    }
   ],
   "source": [
    "# all_data_extra4 = all_data\n",
    "\n",
    "\n",
    "\n",
    "all_data['Quantity Ordered'] =  pd.to_numeric( all_data['Quantity Ordered'] ) \n",
    "all_data['Price Each'] =  pd.to_numeric( all_data['Price Each'] )\n",
    "# all_data.head()"
   ]
  },
  {
   "cell_type": "markdown",
   "id": "6ccdf362",
   "metadata": {},
   "source": [
    "## END OF DATA CLEANING "
   ]
  },
  {
   "cell_type": "code",
   "execution_count": null,
   "id": "611482ff-530c-405e-839c-bea24b2c7dbc",
   "metadata": {},
   "outputs": [],
   "source": []
  },
  {
   "cell_type": "code",
   "execution_count": null,
   "id": "20c65918-75ce-4519-8e5c-21cb87effcbf",
   "metadata": {},
   "outputs": [],
   "source": []
  },
  {
   "cell_type": "markdown",
   "id": "b37928b0-43a1-4a9d-a882-14fc29481885",
   "metadata": {},
   "source": [
    "#### AUGMENTED DATA WITH ADDITIONAL COLUMNS "
   ]
  },
  {
   "cell_type": "markdown",
   "id": "1a6eb469-e5f1-4db9-b273-466235a215b2",
   "metadata": {},
   "source": [
    "#### TASK 2. ADD MONTH COLOUMN  "
   ]
  },
  {
   "cell_type": "code",
   "execution_count": 31,
   "id": "c0f75fd1-6a37-4d93-b62e-0f4bce1f87ff",
   "metadata": {},
   "outputs": [],
   "source": [
    "#### GET MONTH USING STR[0:2]\n",
    "\n",
    "# all_data_extra5  = all_data\n",
    "\n",
    "# all_data['Month'] = all_data['Order Date'].str[0:2]\n",
    "#  after creating month col comment the above line \n",
    "\n",
    "all_data['Month'] = all_data['Month'].astype('int32')\n",
    "all_data.head()"
   ]
  },
  {
   "cell_type": "code",
   "execution_count": null,
   "id": "a8619482-c3ae-4766-bcbb-af51721264b8",
   "metadata": {},
   "outputs": [],
   "source": []
  },
  {
   "cell_type": "markdown",
   "id": "fc6ae492-acd9-484b-ba47-50903910abe9",
   "metadata": {},
   "source": [
    "## TASK 3 ADD A SALES COLUMN"
   ]
  },
  {
   "cell_type": "code",
   "execution_count": 35,
   "id": "dab64b66-13d4-4f9d-80a7-df33585778af",
   "metadata": {},
   "outputs": [
    {
     "data": {
      "text/html": [
       "<div>\n",
       "<style scoped>\n",
       "    .dataframe tbody tr th:only-of-type {\n",
       "        vertical-align: middle;\n",
       "    }\n",
       "\n",
       "    .dataframe tbody tr th {\n",
       "        vertical-align: top;\n",
       "    }\n",
       "\n",
       "    .dataframe thead th {\n",
       "        text-align: right;\n",
       "    }\n",
       "</style>\n",
       "<table border=\"1\" class=\"dataframe\">\n",
       "  <thead>\n",
       "    <tr style=\"text-align: right;\">\n",
       "      <th></th>\n",
       "      <th>Order ID</th>\n",
       "      <th>Product</th>\n",
       "      <th>Quantity Ordered</th>\n",
       "      <th>Price Each</th>\n",
       "      <th>Order Date</th>\n",
       "      <th>Purchase Address</th>\n",
       "      <th>Month</th>\n",
       "      <th>Sales</th>\n",
       "    </tr>\n",
       "  </thead>\n",
       "  <tbody>\n",
       "    <tr>\n",
       "      <th>0</th>\n",
       "      <td>176558</td>\n",
       "      <td>USB-C Charging Cable</td>\n",
       "      <td>2</td>\n",
       "      <td>11.95</td>\n",
       "      <td>04/19/19 08:46</td>\n",
       "      <td>917 1st St, Dallas, TX 75001</td>\n",
       "      <td>4</td>\n",
       "      <td>23.90</td>\n",
       "    </tr>\n",
       "    <tr>\n",
       "      <th>2</th>\n",
       "      <td>176559</td>\n",
       "      <td>Bose SoundSport Headphones</td>\n",
       "      <td>1</td>\n",
       "      <td>99.99</td>\n",
       "      <td>04/07/19 22:30</td>\n",
       "      <td>682 Chestnut St, Boston, MA 02215</td>\n",
       "      <td>4</td>\n",
       "      <td>99.99</td>\n",
       "    </tr>\n",
       "    <tr>\n",
       "      <th>3</th>\n",
       "      <td>176560</td>\n",
       "      <td>Google Phone</td>\n",
       "      <td>1</td>\n",
       "      <td>600.00</td>\n",
       "      <td>04/12/19 14:38</td>\n",
       "      <td>669 Spruce St, Los Angeles, CA 90001</td>\n",
       "      <td>4</td>\n",
       "      <td>600.00</td>\n",
       "    </tr>\n",
       "    <tr>\n",
       "      <th>4</th>\n",
       "      <td>176560</td>\n",
       "      <td>Wired Headphones</td>\n",
       "      <td>1</td>\n",
       "      <td>11.99</td>\n",
       "      <td>04/12/19 14:38</td>\n",
       "      <td>669 Spruce St, Los Angeles, CA 90001</td>\n",
       "      <td>4</td>\n",
       "      <td>11.99</td>\n",
       "    </tr>\n",
       "    <tr>\n",
       "      <th>5</th>\n",
       "      <td>176561</td>\n",
       "      <td>Wired Headphones</td>\n",
       "      <td>1</td>\n",
       "      <td>11.99</td>\n",
       "      <td>04/30/19 09:27</td>\n",
       "      <td>333 8th St, Los Angeles, CA 90001</td>\n",
       "      <td>4</td>\n",
       "      <td>11.99</td>\n",
       "    </tr>\n",
       "  </tbody>\n",
       "</table>\n",
       "</div>"
      ],
      "text/plain": [
       "  Order ID                     Product  Quantity Ordered  Price Each  \\\n",
       "0   176558        USB-C Charging Cable                 2       11.95   \n",
       "2   176559  Bose SoundSport Headphones                 1       99.99   \n",
       "3   176560                Google Phone                 1      600.00   \n",
       "4   176560            Wired Headphones                 1       11.99   \n",
       "5   176561            Wired Headphones                 1       11.99   \n",
       "\n",
       "       Order Date                      Purchase Address  Month   Sales  \n",
       "0  04/19/19 08:46          917 1st St, Dallas, TX 75001      4   23.90  \n",
       "2  04/07/19 22:30     682 Chestnut St, Boston, MA 02215      4   99.99  \n",
       "3  04/12/19 14:38  669 Spruce St, Los Angeles, CA 90001      4  600.00  \n",
       "4  04/12/19 14:38  669 Spruce St, Los Angeles, CA 90001      4   11.99  \n",
       "5  04/30/19 09:27     333 8th St, Los Angeles, CA 90001      4   11.99  "
      ]
     },
     "execution_count": 35,
     "metadata": {},
     "output_type": "execute_result"
    }
   ],
   "source": [
    "# all_data_extra5  = all_data\n",
    "\n",
    "\n",
    "all_data['Sales'] =  all_data['Quantity Ordered'] * all_data['Price Each']\n",
    "# all_data.head()"
   ]
  },
  {
   "cell_type": "markdown",
   "id": "ca56970d-abc9-4ce5-a06b-62d045b5587c",
   "metadata": {},
   "source": [
    "## TASK 4 ADD CITY COLUMN "
   ]
  },
  {
   "cell_type": "code",
   "execution_count": 42,
   "id": "cefd7f06-638f-46b6-b634-a4402880e576",
   "metadata": {},
   "outputs": [],
   "source": [
    "# all_data_extra6 = all_data\n",
    "\n",
    "# all_data_test = all_data\n",
    "\n",
    "# working 1\n",
    "def get_city(address):\n",
    "    return  address.split(',')[1]\n",
    "\n",
    "# all_data_test ['City_test1']  = all_data_test ['Purchase Address'].apply( lambda x : get_city(x) )\n",
    "\n",
    "\n",
    "# working 2\n",
    "# done \n",
    "# all_data_test['City'] = all_data_test['Purchase Address'].apply(lambda x: x .split(',') [1]   )\n",
    "\n",
    "# all_data_test.head()\n",
    "\n",
    "############################# DONT USE THIS IN THIS \n",
    "# all_data = all_data.drop(columns = 'month', inplace=True )   // carefully use this it drops the whole data  \n",
    "# all_data.head()\n",
    "############################# "
   ]
  },
  {
   "cell_type": "code",
   "execution_count": 44,
   "id": "2683ec4c",
   "metadata": {},
   "outputs": [
    {
     "data": {
      "text/html": [
       "<div>\n",
       "<style scoped>\n",
       "    .dataframe tbody tr th:only-of-type {\n",
       "        vertical-align: middle;\n",
       "    }\n",
       "\n",
       "    .dataframe tbody tr th {\n",
       "        vertical-align: top;\n",
       "    }\n",
       "\n",
       "    .dataframe thead th {\n",
       "        text-align: right;\n",
       "    }\n",
       "</style>\n",
       "<table border=\"1\" class=\"dataframe\">\n",
       "  <thead>\n",
       "    <tr style=\"text-align: right;\">\n",
       "      <th></th>\n",
       "      <th>Order ID</th>\n",
       "      <th>Product</th>\n",
       "      <th>Quantity Ordered</th>\n",
       "      <th>Price Each</th>\n",
       "      <th>Order Date</th>\n",
       "      <th>Purchase Address</th>\n",
       "      <th>Month</th>\n",
       "      <th>Sales</th>\n",
       "      <th>City_test1</th>\n",
       "      <th>City_test2</th>\n",
       "      <th>City_test</th>\n",
       "      <th>City</th>\n",
       "    </tr>\n",
       "  </thead>\n",
       "  <tbody>\n",
       "    <tr>\n",
       "      <th>0</th>\n",
       "      <td>176558</td>\n",
       "      <td>USB-C Charging Cable</td>\n",
       "      <td>2</td>\n",
       "      <td>11.95</td>\n",
       "      <td>04/19/19 08:46</td>\n",
       "      <td>917 1st St, Dallas, TX 75001</td>\n",
       "      <td>4</td>\n",
       "      <td>23.90</td>\n",
       "      <td>Dallas</td>\n",
       "      <td>Dallas</td>\n",
       "      <td>917 1st St</td>\n",
       "      <td>Dallas</td>\n",
       "    </tr>\n",
       "    <tr>\n",
       "      <th>2</th>\n",
       "      <td>176559</td>\n",
       "      <td>Bose SoundSport Headphones</td>\n",
       "      <td>1</td>\n",
       "      <td>99.99</td>\n",
       "      <td>04/07/19 22:30</td>\n",
       "      <td>682 Chestnut St, Boston, MA 02215</td>\n",
       "      <td>4</td>\n",
       "      <td>99.99</td>\n",
       "      <td>Boston</td>\n",
       "      <td>Boston</td>\n",
       "      <td>682 Chestnut St</td>\n",
       "      <td>Boston</td>\n",
       "    </tr>\n",
       "    <tr>\n",
       "      <th>3</th>\n",
       "      <td>176560</td>\n",
       "      <td>Google Phone</td>\n",
       "      <td>1</td>\n",
       "      <td>600.00</td>\n",
       "      <td>04/12/19 14:38</td>\n",
       "      <td>669 Spruce St, Los Angeles, CA 90001</td>\n",
       "      <td>4</td>\n",
       "      <td>600.00</td>\n",
       "      <td>Los Angeles</td>\n",
       "      <td>Los Angeles</td>\n",
       "      <td>669 Spruce St</td>\n",
       "      <td>Los Angeles</td>\n",
       "    </tr>\n",
       "    <tr>\n",
       "      <th>4</th>\n",
       "      <td>176560</td>\n",
       "      <td>Wired Headphones</td>\n",
       "      <td>1</td>\n",
       "      <td>11.99</td>\n",
       "      <td>04/12/19 14:38</td>\n",
       "      <td>669 Spruce St, Los Angeles, CA 90001</td>\n",
       "      <td>4</td>\n",
       "      <td>11.99</td>\n",
       "      <td>Los Angeles</td>\n",
       "      <td>Los Angeles</td>\n",
       "      <td>669 Spruce St</td>\n",
       "      <td>Los Angeles</td>\n",
       "    </tr>\n",
       "    <tr>\n",
       "      <th>5</th>\n",
       "      <td>176561</td>\n",
       "      <td>Wired Headphones</td>\n",
       "      <td>1</td>\n",
       "      <td>11.99</td>\n",
       "      <td>04/30/19 09:27</td>\n",
       "      <td>333 8th St, Los Angeles, CA 90001</td>\n",
       "      <td>4</td>\n",
       "      <td>11.99</td>\n",
       "      <td>Los Angeles</td>\n",
       "      <td>Los Angeles</td>\n",
       "      <td>333 8th St</td>\n",
       "      <td>Los Angeles</td>\n",
       "    </tr>\n",
       "  </tbody>\n",
       "</table>\n",
       "</div>"
      ],
      "text/plain": [
       "  Order ID                     Product  Quantity Ordered  Price Each  \\\n",
       "0   176558        USB-C Charging Cable                 2       11.95   \n",
       "2   176559  Bose SoundSport Headphones                 1       99.99   \n",
       "3   176560                Google Phone                 1      600.00   \n",
       "4   176560            Wired Headphones                 1       11.99   \n",
       "5   176561            Wired Headphones                 1       11.99   \n",
       "\n",
       "       Order Date                      Purchase Address  Month   Sales  \\\n",
       "0  04/19/19 08:46          917 1st St, Dallas, TX 75001      4   23.90   \n",
       "2  04/07/19 22:30     682 Chestnut St, Boston, MA 02215      4   99.99   \n",
       "3  04/12/19 14:38  669 Spruce St, Los Angeles, CA 90001      4  600.00   \n",
       "4  04/12/19 14:38  669 Spruce St, Los Angeles, CA 90001      4   11.99   \n",
       "5  04/30/19 09:27     333 8th St, Los Angeles, CA 90001      4   11.99   \n",
       "\n",
       "     City_test1    City_test2        City_test          City  \n",
       "0        Dallas        Dallas       917 1st St        Dallas  \n",
       "2        Boston        Boston  682 Chestnut St        Boston  \n",
       "3   Los Angeles   Los Angeles    669 Spruce St   Los Angeles  \n",
       "4   Los Angeles   Los Angeles    669 Spruce St   Los Angeles  \n",
       "5   Los Angeles   Los Angeles       333 8th St   Los Angeles  "
      ]
     },
     "execution_count": 44,
     "metadata": {},
     "output_type": "execute_result"
    }
   ],
   "source": [
    "all_data_test.head()"
   ]
  },
  {
   "cell_type": "code",
   "execution_count": 47,
   "id": "bf99666c-8474-45be-8471-9206bc5319b4",
   "metadata": {},
   "outputs": [],
   "source": [
    "# all_data_extra35 = all_data_test\n",
    "\n",
    "\n",
    "# all_data_test.drop( columns = 'City_test2', inplace = True )    \n",
    "# use inplace true to remove columns from df       \n",
    "\n",
    "\n",
    "# all_data_test.head()"
   ]
  },
  {
   "cell_type": "code",
   "execution_count": null,
   "id": "3ed1ca96-43e0-4c63-b867-5615473c0795",
   "metadata": {},
   "outputs": [],
   "source": []
  },
  {
   "cell_type": "code",
   "execution_count": null,
   "id": "d65574c0-4769-4977-a4cc-58493f2fc9aa",
   "metadata": {},
   "outputs": [],
   "source": []
  },
  {
   "cell_type": "markdown",
   "id": "20a955cc-d680-42b6-a7a7-54e6905de10d",
   "metadata": {},
   "source": [
    "## Question 1. BEST MONTH FOR SALES  ? WHAT WAS EARNED AT THAT MONTH? "
   ]
  },
  {
   "cell_type": "code",
   "execution_count": 49,
   "id": "e7b5cdcc",
   "metadata": {},
   "outputs": [],
   "source": [
    "# all_data_extra20 = all_data_test\n",
    "# all_data_test.head()"
   ]
  },
  {
   "cell_type": "code",
   "execution_count": 53,
   "id": "6296694a-722b-4696-ad81-e6fcd536ab93",
   "metadata": {},
   "outputs": [
    {
     "name": "stdout",
     "output_type": "stream",
     "text": [
      "Month\n",
      "1     1815143\n",
      "2     2193165\n",
      "3     2795907\n",
      "4     3377215\n",
      "5     3140375\n",
      "6     2567871\n",
      "7     2637209\n",
      "8     2235667\n",
      "9     2088915\n",
      "10    3721615\n",
      "11    3186604\n",
      "12    4594929\n",
      "Name: Sales, dtype: int32\n"
     ]
    }
   ],
   "source": [
    "# float64 to int   \n",
    "# all_data = all_data_test\n",
    "\n",
    "# all_data_extra51 = all_data \n",
    "\n",
    "\n",
    "# all_data.groupby('Month').sum()['Sales']   # extra ---  dont use this  \n",
    "\n",
    "# all_data['Sales'] = all_data['Sales'].astype('int32')\n",
    "\n",
    "result = all_data.groupby('Month').sum()\n",
    "print(result['Sales'])"
   ]
  },
  {
   "cell_type": "code",
   "execution_count": 59,
   "id": "9ad5103e-1f98-49cf-9d69-07b7a25e7081",
   "metadata": {},
   "outputs": [],
   "source": [
    "# all_data_3 = all_data\n",
    "# all_data_3.head()"
   ]
  },
  {
   "cell_type": "code",
   "execution_count": 58,
   "id": "95e5711c-9879-4cdc-968d-8cf13bc0bf28",
   "metadata": {},
   "outputs": [
    {
     "data": {
      "image/png": "[encoded data removed]",
      "text/plain": [
       "<Figure size 640x480 with 1 Axes>"
      ]
     },
     "metadata": {},
     "output_type": "display_data"
    }
   ],
   "source": [
    "#  ------------------- NOT WORKING \n",
    "# formatter = ScalarFormatter(useMathText=False)\n",
    "# plt.gca().yaxis.set_major_formatter(formatter)\n",
    "# formatter = ticker.ScalarFormatter(useMathText=False)\n",
    "# --------------------------------------------------\n",
    "\n",
    "\n",
    "import matplotlib.pyplot as plt         \n",
    "# import ScalarFormatter\n",
    "months = range(1,13)\n",
    "\n",
    "plt.bar(months, result['Sales'])  \n",
    "plt.xticks(months)\n",
    "plt.ylabel('Sales in USD (*10 lakh)')\n",
    "plt.xlabel('Months')\n",
    "\n",
    "plt.show()"
   ]
  },
  {
   "cell_type": "code",
   "execution_count": 61,
   "id": "c3395a4b-b2ff-46d6-ab07-f24cda321166",
   "metadata": {},
   "outputs": [],
   "source": [
    "# backup\n",
    "# all_data_22 = all_data \n",
    "# all_data_22.head()"
   ]
  },
  {
   "cell_type": "code",
   "execution_count": null,
   "id": "f496078e-9e26-4ec7-9d09-a2268744611f",
   "metadata": {},
   "outputs": [],
   "source": []
  },
  {
   "cell_type": "markdown",
   "id": "74d27b2a",
   "metadata": {},
   "source": [
    "##### QUESTION 2. WHAT CITY HAS THE HIGHEST NUMBER OF SALES ?"
   ]
  },
  {
   "cell_type": "code",
   "execution_count": 62,
   "id": "fa66cec3",
   "metadata": {},
   "outputs": [
    {
     "name": "stdout",
     "output_type": "stream",
     "text": [
      "City\n",
      " Atlanta          2784555\n",
      " Austin           1812297\n",
      " Boston           3646904\n",
      " Dallas           2757017\n",
      " Los Angeles      5430629\n",
      " New York City    4645903\n",
      " Portland         2311293\n",
      " San Francisco    8229136\n",
      " Seattle          2736881\n",
      "Name: Sales, dtype: int32\n"
     ]
    }
   ],
   "source": [
    "results_city = all_data.groupby('City').sum()\n",
    "print(results_city['Sales'])"
   ]
  },
  {
   "cell_type": "code",
   "execution_count": 64,
   "id": "9be64620",
   "metadata": {},
   "outputs": [
    {
     "data": {
      "text/html": [
       "<div>\n",
       "<style scoped>\n",
       "    .dataframe tbody tr th:only-of-type {\n",
       "        vertical-align: middle;\n",
       "    }\n",
       "\n",
       "    .dataframe tbody tr th {\n",
       "        vertical-align: top;\n",
       "    }\n",
       "\n",
       "    .dataframe thead th {\n",
       "        text-align: right;\n",
       "    }\n",
       "</style>\n",
       "<table border=\"1\" class=\"dataframe\">\n",
       "  <thead>\n",
       "    <tr style=\"text-align: right;\">\n",
       "      <th></th>\n",
       "      <th>Order ID</th>\n",
       "      <th>Product</th>\n",
       "      <th>Quantity Ordered</th>\n",
       "      <th>Price Each</th>\n",
       "      <th>Order Date</th>\n",
       "      <th>Purchase Address</th>\n",
       "      <th>Month</th>\n",
       "      <th>Sales</th>\n",
       "    </tr>\n",
       "    <tr>\n",
       "      <th>City</th>\n",
       "      <th></th>\n",
       "      <th></th>\n",
       "      <th></th>\n",
       "      <th></th>\n",
       "      <th></th>\n",
       "      <th></th>\n",
       "      <th></th>\n",
       "      <th></th>\n",
       "    </tr>\n",
       "  </thead>\n",
       "  <tbody>\n",
       "    <tr>\n",
       "      <th>Atlanta</th>\n",
       "      <td>1765641765711765821765891766231766271766341766...</td>\n",
       "      <td>USB-C Charging CableLightning Charging CableBo...</td>\n",
       "      <td>16602</td>\n",
       "      <td>2779908.20</td>\n",
       "      <td>04/12/19 10:5804/19/19 14:2904/27/19 12:2004/0...</td>\n",
       "      <td>790 Ridge St, Atlanta, GA 30301253 Johnson St,...</td>\n",
       "      <td>104794</td>\n",
       "      <td>2784555</td>\n",
       "    </tr>\n",
       "    <tr>\n",
       "      <th>Austin</th>\n",
       "      <td>1765911766091766741766771766861767011767051767...</td>\n",
       "      <td>Apple Airpods HeadphonesApple Airpods Headphon...</td>\n",
       "      <td>11153</td>\n",
       "      <td>1809873.61</td>\n",
       "      <td>04/21/19 07:2104/11/19 16:5904/20/19 20:5304/0...</td>\n",
       "      <td>600 Maple St, Austin, TX 73301267 11th St, Aus...</td>\n",
       "      <td>69829</td>\n",
       "      <td>1812297</td>\n",
       "    </tr>\n",
       "    <tr>\n",
       "      <th>Boston</th>\n",
       "      <td>1765591765661765781765811765851765851766001766...</td>\n",
       "      <td>Bose SoundSport HeadphonesWired HeadphonesAppl...</td>\n",
       "      <td>22528</td>\n",
       "      <td>3637409.77</td>\n",
       "      <td>04/07/19 22:3004/08/19 14:0504/09/19 23:3504/0...</td>\n",
       "      <td>682 Chestnut St, Boston, MA 0221583 7th St, Bo...</td>\n",
       "      <td>141112</td>\n",
       "      <td>3646904</td>\n",
       "    </tr>\n",
       "    <tr>\n",
       "      <th>Dallas</th>\n",
       "      <td>1765581765691765701765771765961766021766101766...</td>\n",
       "      <td>USB-C Charging Cable27in 4K Gaming MonitorAA B...</td>\n",
       "      <td>16730</td>\n",
       "      <td>2752627.82</td>\n",
       "      <td>04/19/19 08:4604/16/19 19:2304/22/19 15:0904/0...</td>\n",
       "      <td>917 1st St, Dallas, TX 75001657 Hill St, Dalla...</td>\n",
       "      <td>104620</td>\n",
       "      <td>2757017</td>\n",
       "    </tr>\n",
       "    <tr>\n",
       "      <th>Los Angeles</th>\n",
       "      <td>1765601765601765611765671765741765741765761765...</td>\n",
       "      <td>Google PhoneWired HeadphonesWired HeadphonesGo...</td>\n",
       "      <td>33289</td>\n",
       "      <td>5421435.23</td>\n",
       "      <td>04/12/19 14:3804/12/19 14:3804/30/19 09:2704/1...</td>\n",
       "      <td>669 Spruce St, Los Angeles, CA 90001669 Spruce...</td>\n",
       "      <td>208325</td>\n",
       "      <td>5430629</td>\n",
       "    </tr>\n",
       "    <tr>\n",
       "      <th>New York City</th>\n",
       "      <td>1765721765751765791765901765991766131766371766...</td>\n",
       "      <td>Apple Airpods HeadphonesAAA Batteries (4-pack)...</td>\n",
       "      <td>27932</td>\n",
       "      <td>4635370.83</td>\n",
       "      <td>04/04/19 20:3004/27/19 00:3004/11/19 10:2304/1...</td>\n",
       "      <td>149 Dogwood St, New York City, NY 10001433 Hil...</td>\n",
       "      <td>175741</td>\n",
       "      <td>4645903</td>\n",
       "    </tr>\n",
       "    <tr>\n",
       "      <th>Portland</th>\n",
       "      <td>1765831765931766171766421766461766481766621767...</td>\n",
       "      <td>AAA Batteries (4-pack)Lightning Charging Cable...</td>\n",
       "      <td>14053</td>\n",
       "      <td>2307747.47</td>\n",
       "      <td>04/20/19 12:0004/15/19 13:4504/25/19 08:0304/1...</td>\n",
       "      <td>146 Jackson St, Portland, OR 97035906 7th St, ...</td>\n",
       "      <td>87765</td>\n",
       "      <td>2311293</td>\n",
       "    </tr>\n",
       "    <tr>\n",
       "      <th>San Francisco</th>\n",
       "      <td>1765621765651765731765841765861765861765941765...</td>\n",
       "      <td>USB-C Charging CableMacbook Pro LaptopUSB-C Ch...</td>\n",
       "      <td>50239</td>\n",
       "      <td>8211461.74</td>\n",
       "      <td>04/29/19 13:0304/24/19 10:3804/27/19 18:4104/2...</td>\n",
       "      <td>381 Wilson St, San Francisco, CA 94016915 Will...</td>\n",
       "      <td>315520</td>\n",
       "      <td>8229136</td>\n",
       "    </tr>\n",
       "    <tr>\n",
       "      <th>Seattle</th>\n",
       "      <td>1765631765681765881766121766241766541766631766...</td>\n",
       "      <td>Bose SoundSport HeadphonesLightning Charging C...</td>\n",
       "      <td>16553</td>\n",
       "      <td>2733296.01</td>\n",
       "      <td>04/02/19 07:4604/15/19 12:1804/02/19 04:0004/0...</td>\n",
       "      <td>668 Center St, Seattle, WA 98101438 Elm St, Se...</td>\n",
       "      <td>104941</td>\n",
       "      <td>2736881</td>\n",
       "    </tr>\n",
       "  </tbody>\n",
       "</table>\n",
       "</div>"
      ],
      "text/plain": [
       "                                                         Order ID  \\\n",
       "City                                                                \n",
       " Atlanta        1765641765711765821765891766231766271766341766...   \n",
       " Austin         1765911766091766741766771766861767011767051767...   \n",
       " Boston         1765591765661765781765811765851765851766001766...   \n",
       " Dallas         1765581765691765701765771765961766021766101766...   \n",
       " Los Angeles    1765601765601765611765671765741765741765761765...   \n",
       " New York City  1765721765751765791765901765991766131766371766...   \n",
       " Portland       1765831765931766171766421766461766481766621767...   \n",
       " San Francisco  1765621765651765731765841765861765861765941765...   \n",
       " Seattle        1765631765681765881766121766241766541766631766...   \n",
       "\n",
       "                                                          Product  \\\n",
       "City                                                                \n",
       " Atlanta        USB-C Charging CableLightning Charging CableBo...   \n",
       " Austin         Apple Airpods HeadphonesApple Airpods Headphon...   \n",
       " Boston         Bose SoundSport HeadphonesWired HeadphonesAppl...   \n",
       " Dallas         USB-C Charging Cable27in 4K Gaming MonitorAA B...   \n",
       " Los Angeles    Google PhoneWired HeadphonesWired HeadphonesGo...   \n",
       " New York City  Apple Airpods HeadphonesAAA Batteries (4-pack)...   \n",
       " Portland       AAA Batteries (4-pack)Lightning Charging Cable...   \n",
       " San Francisco  USB-C Charging CableMacbook Pro LaptopUSB-C Ch...   \n",
       " Seattle        Bose SoundSport HeadphonesLightning Charging C...   \n",
       "\n",
       "                Quantity Ordered  Price Each  \\\n",
       "City                                           \n",
       " Atlanta                   16602  2779908.20   \n",
       " Austin                    11153  1809873.61   \n",
       " Boston                    22528  3637409.77   \n",
       " Dallas                    16730  2752627.82   \n",
       " Los Angeles               33289  5421435.23   \n",
       " New York City             27932  4635370.83   \n",
       " Portland                  14053  2307747.47   \n",
       " San Francisco             50239  8211461.74   \n",
       " Seattle                   16553  2733296.01   \n",
       "\n",
       "                                                       Order Date  \\\n",
       "City                                                                \n",
       " Atlanta        04/12/19 10:5804/19/19 14:2904/27/19 12:2004/0...   \n",
       " Austin         04/21/19 07:2104/11/19 16:5904/20/19 20:5304/0...   \n",
       " Boston         04/07/19 22:3004/08/19 14:0504/09/19 23:3504/0...   \n",
       " Dallas         04/19/19 08:4604/16/19 19:2304/22/19 15:0904/0...   \n",
       " Los Angeles    04/12/19 14:3804/12/19 14:3804/30/19 09:2704/1...   \n",
       " New York City  04/04/19 20:3004/27/19 00:3004/11/19 10:2304/1...   \n",
       " Portland       04/20/19 12:0004/15/19 13:4504/25/19 08:0304/1...   \n",
       " San Francisco  04/29/19 13:0304/24/19 10:3804/27/19 18:4104/2...   \n",
       " Seattle        04/02/19 07:4604/15/19 12:1804/02/19 04:0004/0...   \n",
       "\n",
       "                                                 Purchase Address   Month  \\\n",
       "City                                                                        \n",
       " Atlanta        790 Ridge St, Atlanta, GA 30301253 Johnson St,...  104794   \n",
       " Austin         600 Maple St, Austin, TX 73301267 11th St, Aus...   69829   \n",
       " Boston         682 Chestnut St, Boston, MA 0221583 7th St, Bo...  141112   \n",
       " Dallas         917 1st St, Dallas, TX 75001657 Hill St, Dalla...  104620   \n",
       " Los Angeles    669 Spruce St, Los Angeles, CA 90001669 Spruce...  208325   \n",
       " New York City  149 Dogwood St, New York City, NY 10001433 Hil...  175741   \n",
       " Portland       146 Jackson St, Portland, OR 97035906 7th St, ...   87765   \n",
       " San Francisco  381 Wilson St, San Francisco, CA 94016915 Will...  315520   \n",
       " Seattle        668 Center St, Seattle, WA 98101438 Elm St, Se...  104941   \n",
       "\n",
       "                  Sales  \n",
       "City                     \n",
       " Atlanta        2784555  \n",
       " Austin         1812297  \n",
       " Boston         3646904  \n",
       " Dallas         2757017  \n",
       " Los Angeles    5430629  \n",
       " New York City  4645903  \n",
       " Portland       2311293  \n",
       " San Francisco  8229136  \n",
       " Seattle        2736881  "
      ]
     },
     "execution_count": 64,
     "metadata": {},
     "output_type": "execute_result"
    }
   ],
   "source": [
    "# extra \n",
    "# results_city"
   ]
  },
  {
   "cell_type": "code",
   "execution_count": 65,
   "id": "75870306",
   "metadata": {},
   "outputs": [],
   "source": [
    "all_data_test = all_data"
   ]
  },
  {
   "cell_type": "code",
   "execution_count": 68,
   "id": "c4a59c0f",
   "metadata": {},
   "outputs": [
    {
     "data": {
      "image/png": "[encoded data removed]",
      "text/plain": [
       "<Figure size 640x480 with 1 Axes>"
      ]
     },
     "metadata": {},
     "output_type": "display_data"
    }
   ],
   "source": [
    "cities = [city for city , df in all_data.groupby('City')  ]\n",
    "\n",
    "# print(cities)\n",
    "\n",
    "plt.bar( cities, results_city['Sales'])\n",
    "plt.xticks( cities, rotation = 'vertical' , size = 8 )\n",
    "plt.title ('Sales in Cities')\n",
    "plt.xlabel('Cities')\n",
    "plt.ylabel('Sales in $* (10lakh) ')\n",
    "\n",
    "plt.show()"
   ]
  },
  {
   "cell_type": "code",
   "execution_count": null,
   "id": "6c83186e",
   "metadata": {},
   "outputs": [],
   "source": []
  },
  {
   "cell_type": "markdown",
   "id": "07aae0c0",
   "metadata": {},
   "source": [
    " #### QUESTION 3.  What time we display advertize to maximize likelihood of customer's buying product ?"
   ]
  },
  {
   "cell_type": "code",
   "execution_count": 73,
   "id": "59b526b3",
   "metadata": {},
   "outputs": [],
   "source": [
    "# CREATE 2 NEW COLUMNS  \n",
    "# all_data_test_99 = all_data \n",
    "\n",
    "#  COLUMN TO DATETIME  into a new column ==> Order Date2\n",
    "all_data['Order Date2'] =   pd.to_datetime( all_data['Order Date'] )\n",
    "\n",
    "# GET Hour from Column ==> Order Date2\n",
    "all_data['Hour'] = all_data['Order Date2'].dt.hour\n",
    "\n",
    "# all_data.head()"
   ]
  },
  {
   "cell_type": "code",
   "execution_count": 80,
   "id": "5023ae53",
   "metadata": {},
   "outputs": [],
   "source": [
    "# all_data_test_98 = all_data \n",
    "\n",
    "# extra \n",
    "# hours_test = [ hour for hour ,df in all_data.groupby( 'Hour' ) ]\n",
    "\n",
    "hours_test1 = [ hour for hour ,df in all_data.groupby( ['Hour'] ) ]\n",
    "print(hours_test1)"
   ]
  },
  {
   "cell_type": "code",
   "execution_count": 79,
   "id": "03321e21",
   "metadata": {},
   "outputs": [
    {
     "data": {
      "image/png": "[encoded data removed]",
      "text/plain": [
       "<Figure size 640x480 with 1 Axes>"
      ]
     },
     "metadata": {},
     "output_type": "display_data"
    }
   ],
   "source": [
    "plt.plot( hours_test1, all_data.groupby( all_data['Hour'] ).count()  )\n",
    "\n",
    "plt.xlabel('Hours')\n",
    "plt.ylabel('No Of Orders')\n",
    "plt.grid(True)\n",
    "\n",
    "plt.show()"
   ]
  },
  {
   "cell_type": "code",
   "execution_count": null,
   "id": "7d135509",
   "metadata": {},
   "outputs": [],
   "source": []
  },
  {
   "cell_type": "markdown",
   "id": "c8bb0c5d",
   "metadata": {},
   "source": [
    "QUESTION 4. WHAT PRODUCTS ARE MOST OFTEN SOLD ? "
   ]
  },
  {
   "cell_type": "code",
   "execution_count": 83,
   "id": "c27a7dad",
   "metadata": {},
   "outputs": [],
   "source": [
    "all_data_test97 = all_data\n",
    "all_data_test96 = all_data\n",
    "all_data_test95 = all_data"
   ]
  },
  {
   "cell_type": "code",
   "execution_count": 84,
   "id": "6735e71c",
   "metadata": {},
   "outputs": [
    {
     "data": {
      "text/html": [
       "<div>\n",
       "<style scoped>\n",
       "    .dataframe tbody tr th:only-of-type {\n",
       "        vertical-align: middle;\n",
       "    }\n",
       "\n",
       "    .dataframe tbody tr th {\n",
       "        vertical-align: top;\n",
       "    }\n",
       "\n",
       "    .dataframe thead th {\n",
       "        text-align: right;\n",
       "    }\n",
       "</style>\n",
       "<table border=\"1\" class=\"dataframe\">\n",
       "  <thead>\n",
       "    <tr style=\"text-align: right;\">\n",
       "      <th></th>\n",
       "      <th>Order ID</th>\n",
       "      <th>Product</th>\n",
       "      <th>Quantity Ordered</th>\n",
       "      <th>Price Each</th>\n",
       "      <th>Order Date</th>\n",
       "      <th>Purchase Address</th>\n",
       "      <th>Month</th>\n",
       "      <th>Sales</th>\n",
       "      <th>City</th>\n",
       "      <th>Order Date2</th>\n",
       "      <th>Hour</th>\n",
       "    </tr>\n",
       "  </thead>\n",
       "  <tbody>\n",
       "    <tr>\n",
       "      <th>0</th>\n",
       "      <td>176558</td>\n",
       "      <td>USB-C Charging Cable</td>\n",
       "      <td>2</td>\n",
       "      <td>11.95</td>\n",
       "      <td>04/19/19 08:46</td>\n",
       "      <td>917 1st St, Dallas, TX 75001</td>\n",
       "      <td>4</td>\n",
       "      <td>23</td>\n",
       "      <td>Dallas</td>\n",
       "      <td>2019-04-19 08:46:00</td>\n",
       "      <td>8</td>\n",
       "    </tr>\n",
       "    <tr>\n",
       "      <th>2</th>\n",
       "      <td>176559</td>\n",
       "      <td>Bose SoundSport Headphones</td>\n",
       "      <td>1</td>\n",
       "      <td>99.99</td>\n",
       "      <td>04/07/19 22:30</td>\n",
       "      <td>682 Chestnut St, Boston, MA 02215</td>\n",
       "      <td>4</td>\n",
       "      <td>99</td>\n",
       "      <td>Boston</td>\n",
       "      <td>2019-04-07 22:30:00</td>\n",
       "      <td>22</td>\n",
       "    </tr>\n",
       "    <tr>\n",
       "      <th>3</th>\n",
       "      <td>176560</td>\n",
       "      <td>Google Phone</td>\n",
       "      <td>1</td>\n",
       "      <td>600.00</td>\n",
       "      <td>04/12/19 14:38</td>\n",
       "      <td>669 Spruce St, Los Angeles, CA 90001</td>\n",
       "      <td>4</td>\n",
       "      <td>600</td>\n",
       "      <td>Los Angeles</td>\n",
       "      <td>2019-04-12 14:38:00</td>\n",
       "      <td>14</td>\n",
       "    </tr>\n",
       "    <tr>\n",
       "      <th>4</th>\n",
       "      <td>176560</td>\n",
       "      <td>Wired Headphones</td>\n",
       "      <td>1</td>\n",
       "      <td>11.99</td>\n",
       "      <td>04/12/19 14:38</td>\n",
       "      <td>669 Spruce St, Los Angeles, CA 90001</td>\n",
       "      <td>4</td>\n",
       "      <td>11</td>\n",
       "      <td>Los Angeles</td>\n",
       "      <td>2019-04-12 14:38:00</td>\n",
       "      <td>14</td>\n",
       "    </tr>\n",
       "    <tr>\n",
       "      <th>5</th>\n",
       "      <td>176561</td>\n",
       "      <td>Wired Headphones</td>\n",
       "      <td>1</td>\n",
       "      <td>11.99</td>\n",
       "      <td>04/30/19 09:27</td>\n",
       "      <td>333 8th St, Los Angeles, CA 90001</td>\n",
       "      <td>4</td>\n",
       "      <td>11</td>\n",
       "      <td>Los Angeles</td>\n",
       "      <td>2019-04-30 09:27:00</td>\n",
       "      <td>9</td>\n",
       "    </tr>\n",
       "  </tbody>\n",
       "</table>\n",
       "</div>"
      ],
      "text/plain": [
       "  Order ID                     Product  Quantity Ordered  Price Each  \\\n",
       "0   176558        USB-C Charging Cable                 2       11.95   \n",
       "2   176559  Bose SoundSport Headphones                 1       99.99   \n",
       "3   176560                Google Phone                 1      600.00   \n",
       "4   176560            Wired Headphones                 1       11.99   \n",
       "5   176561            Wired Headphones                 1       11.99   \n",
       "\n",
       "       Order Date                      Purchase Address  Month  Sales  \\\n",
       "0  04/19/19 08:46          917 1st St, Dallas, TX 75001      4     23   \n",
       "2  04/07/19 22:30     682 Chestnut St, Boston, MA 02215      4     99   \n",
       "3  04/12/19 14:38  669 Spruce St, Los Angeles, CA 90001      4    600   \n",
       "4  04/12/19 14:38  669 Spruce St, Los Angeles, CA 90001      4     11   \n",
       "5  04/30/19 09:27     333 8th St, Los Angeles, CA 90001      4     11   \n",
       "\n",
       "           City         Order Date2  Hour  \n",
       "0        Dallas 2019-04-19 08:46:00     8  \n",
       "2        Boston 2019-04-07 22:30:00    22  \n",
       "3   Los Angeles 2019-04-12 14:38:00    14  \n",
       "4   Los Angeles 2019-04-12 14:38:00    14  \n",
       "5   Los Angeles 2019-04-30 09:27:00     9  "
      ]
     },
     "execution_count": 84,
     "metadata": {},
     "output_type": "execute_result"
    }
   ],
   "source": [
    "# FROM HERE      get all duplicated rows by order date\n",
    "# order date duplicated rows\n",
    "\n",
    "# df1 = all_data_test97[ all_data_test97['Order Date'].duplicated(keep = False) ]\n",
    "# df1.head()"
   ]
  },
  {
   "cell_type": "code",
   "execution_count": 88,
   "id": "d2a53bf8",
   "metadata": {},
   "outputs": [],
   "source": [
    "# df1['Grouped'] = df1.groupby('Order ID') ['Product'].transform( lambda x: ','.join(x) )  \n",
    "# df1.head()\n"
   ]
  },
  {
   "cell_type": "code",
   "execution_count": null,
   "id": "50e788f4",
   "metadata": {},
   "outputs": [],
   "source": [
    "# remove duplicated and keep only single row for each order      [Order Id] [Grouped] \n",
    "df1 = df1[ ['Order ID', 'Grouped'] ] .drop_duplicates()  \n",
    "\n",
    "# df1.head(100)"
   ]
  },
  {
   "cell_type": "code",
   "execution_count": 90,
   "id": "49a3b2aa",
   "metadata": {},
   "outputs": [
    {
     "name": "stdout",
     "output_type": "stream",
     "text": [
      "('iPhone', 'Lightning Charging Cable') 1005\n",
      "('Google Phone', 'USB-C Charging Cable') 987\n",
      "('iPhone', 'Wired Headphones') 447\n",
      "('Google Phone', 'Wired Headphones') 414\n",
      "('Vareebadd Phone', 'USB-C Charging Cable') 361\n",
      "('iPhone', 'Apple Airpods Headphones') 360\n",
      "('Google Phone', 'Bose SoundSport Headphones') 220\n",
      "('USB-C Charging Cable', 'Wired Headphones') 160\n",
      "('Vareebadd Phone', 'Wired Headphones') 143\n",
      "('Lightning Charging Cable', 'Wired Headphones') 92\n"
     ]
    }
   ],
   "source": [
    "from itertools import combinations \n",
    "from collections import Counter \n",
    "\n",
    "count = Counter()\n",
    "\n",
    "for row in df1['Grouped']:\n",
    "    row_list = row.split(',')\n",
    "    count.update (Counter(combinations(row_list, 2) ) )\n",
    "\n",
    "\n",
    "count.most_common(10)\n",
    "\n",
    "\n",
    "for key, value in  count.most_common(10):\n",
    "    print( key, value )\n"
   ]
  },
  {
   "cell_type": "code",
   "execution_count": null,
   "id": "c64487d3",
   "metadata": {},
   "outputs": [],
   "source": []
  },
  {
   "cell_type": "markdown",
   "id": "c04b1782",
   "metadata": {},
   "source": [
    "QUESTION 5. WHAT PRODUCT SOLD THE MOST AND WHY DOU YOU THINK IT SOLD THE MOST ? "
   ]
  },
  {
   "cell_type": "code",
   "execution_count": 92,
   "id": "b5c89582",
   "metadata": {},
   "outputs": [],
   "source": [
    "all_data_test95 = all_data\n",
    "all_data_test94 = all_data"
   ]
  },
  {
   "cell_type": "code",
   "execution_count": 106,
   "id": "2cf7faee",
   "metadata": {},
   "outputs": [],
   "source": [
    "# all_data.head()"
   ]
  },
  {
   "cell_type": "code",
   "execution_count": 109,
   "id": "2306911c",
   "metadata": {},
   "outputs": [
    {
     "data": {
      "image/png": "[encoded data removed]",
      "text/plain": [
       "<Figure size 640x480 with 1 Axes>"
      ]
     },
     "metadata": {},
     "output_type": "display_data"
    }
   ],
   "source": [
    "product_group = all_data_test95.groupby('Product')\n",
    "quantity_ordered = product_group.sum(numeric_only=True)['Quantity Ordered']\n",
    "\n",
    "keys = [pair for pair, df in product_group]\n",
    "plt.bar(keys, quantity_ordered)\n",
    "plt.xticks(keys, rotation='vertical', size=8)\n",
    "plt.show()\n",
    "\n",
    "# print(quantity_ordered)"
   ]
  },
  {
   "cell_type": "code",
   "execution_count": 110,
   "id": "4f5fa972",
   "metadata": {},
   "outputs": [],
   "source": [
    "# print(all_data.dtypes)"
   ]
  },
  {
   "cell_type": "code",
   "execution_count": 100,
   "id": "4e280084",
   "metadata": {},
   "outputs": [],
   "source": [
    "all_data_test93 = all_data\n",
    "all_data_test92 = all_data "
   ]
  },
  {
   "cell_type": "code",
   "execution_count": 105,
   "id": "cdea5987",
   "metadata": {},
   "outputs": [
    {
     "name": "stdout",
     "output_type": "stream",
     "text": [
      "object\n"
     ]
    }
   ],
   "source": [
    "# all_data_test93 \n",
    "\n",
    "# all_data['Product'] = all_data['Product'].astype(str)\n",
    "\n",
    "# print(all_data.dtypes)\n",
    "\n",
    "# all_data_test93.loc[:, 'Product'] = all_data_test93['Product'].astype(str)\n",
    "\n",
    "# print(all_data_test93['Product'].dtypes)\n",
    "\n"
   ]
  },
  {
   "cell_type": "code",
   "execution_count": null,
   "id": "9ec44d18",
   "metadata": {},
   "outputs": [],
   "source": []
  }
 ],
 "metadata": {
  "kernelspec": {
   "display_name": "Python 3 (ipykernel)",
   "language": "python",
   "name": "python3"
  },
  "language_info": {
   "codemirror_mode": {
    "name": "ipython",
    "version": 3
   },
   "file_extension": ".py",
   "mimetype": "text/x-python",
   "name": "python",
   "nbconvert_exporter": "python",
   "pygments_lexer": "ipython3",
   "version": "3.12.1"
  }
 },
 "nbformat": 4,
 "nbformat_minor": 5
}
